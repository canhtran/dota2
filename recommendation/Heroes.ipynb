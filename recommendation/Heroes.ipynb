{
 "cells": [
  {
   "cell_type": "code",
   "execution_count": 1,
   "metadata": {
    "collapsed": true
   },
   "outputs": [],
   "source": [
    "import requests\n",
    "import pandas as pd\n",
    "\n",
    "OPENDOTA_ENDPOINT = 'https://api.opendota.com/api/'\n",
    "\n",
    "def call_opendata(path, params=None):\n",
    "    return requests.get(OPENDOTA_ENDPOINT + path, params=params).json()"
   ]
  },
  {
   "cell_type": "code",
   "execution_count": 11,
   "metadata": {
    "collapsed": true
   },
   "outputs": [],
   "source": [
    "def get_player_heroes(account_id):\n",
    "    return [h for h in call_opendata(\"/players/%s/heroes\" % account_id) if h.get(\"games\") > 0]"
   ]
  },
  {
   "cell_type": "code",
   "execution_count": 9,
   "metadata": {
    "collapsed": false
   },
   "outputs": [],
   "source": [
    "def get_heroes():\n",
    "    return call_opendata(\"/heroes\")\n",
    "\n",
    "def get_heroes_hash():\n",
    "    h = {}\n",
    "    heroes = get_heroes()\n",
    "    for hero in heroes:\n",
    "        h[hero.get(\"id\")] = hero\n",
    "    return h"
   ]
  },
  {
   "cell_type": "code",
   "execution_count": 19,
   "metadata": {
    "collapsed": true
   },
   "outputs": [],
   "source": [
    "ProPlayer = call_opendata(\"/proPlayers\")"
   ]
  },
  {
   "cell_type": "code",
   "execution_count": 32,
   "metadata": {
    "collapsed": false
   },
   "outputs": [],
   "source": [
    "all_heroes = pd.read_csv(\"data/heroes.csv\")"
   ]
  },
  {
   "cell_type": "code",
   "execution_count": 43,
   "metadata": {
    "collapsed": false
   },
   "outputs": [],
   "source": [
    "heroes = []\n",
    "for idex, row in all_heroes.iterrows():\n",
    "    hero = {}\n",
    "    hero[\"id\"] = row[\"id\"]\n",
    "    hero[\"localized_name\"] = row[\"localized_name\"]\n",
    "    hero[\"main_role\"] = row[\"main_role\"]\n",
    "    heroes.append(hero)"
   ]
  },
  {
   "cell_type": "code",
   "execution_count": 45,
   "metadata": {
    "collapsed": false
   },
   "outputs": [],
   "source": [
    "def get_heroes_hash():\n",
    "    h = {}\n",
    "    for hero in heroes:\n",
    "        h[hero.get(\"id\")] = hero\n",
    "    return h"
   ]
  },
  {
   "cell_type": "code",
   "execution_count": 46,
   "metadata": {
    "collapsed": true
   },
   "outputs": [],
   "source": [
    "heroes_hash = get_heroes_hash()"
   ]
  },
  {
   "cell_type": "code",
   "execution_count": 47,
   "metadata": {
    "collapsed": false
   },
   "outputs": [
    {
     "data": {
      "text/plain": [
       "{'id': 2, 'localized_name': 'Axe', 'main_role': 'offlane'}"
      ]
     },
     "execution_count": 47,
     "metadata": {},
     "output_type": "execute_result"
    }
   ],
   "source": [
    "heroes[1]"
   ]
  },
  {
   "cell_type": "code",
   "execution_count": 48,
   "metadata": {
    "collapsed": true
   },
   "outputs": [],
   "source": [
    "proPlayers = call_opendata(\"proPlayers\")"
   ]
  },
  {
   "cell_type": "code",
   "execution_count": 50,
   "metadata": {
    "collapsed": false
   },
   "outputs": [
    {
     "data": {
      "text/plain": [
       "{'account_id': 88018,\n",
       " 'avatar': 'https://steamcdn-a.akamaihd.net/steamcommunity/public/images/avatars/4e/4e93fd4af7e0261db108e0f7e37593ae2eee0128.jpg',\n",
       " 'avatarfull': 'https://steamcdn-a.akamaihd.net/steamcommunity/public/images/avatars/4e/4e93fd4af7e0261db108e0f7e37593ae2eee0128_full.jpg',\n",
       " 'avatarmedium': 'https://steamcdn-a.akamaihd.net/steamcommunity/public/images/avatars/4e/4e93fd4af7e0261db108e0f7e37593ae2eee0128_medium.jpg',\n",
       " 'cheese': 0,\n",
       " 'country_code': '',\n",
       " 'fantasy_role': 1,\n",
       " 'fh_unavailable': False,\n",
       " 'full_history_time': '2017-06-03T04:59:21.898Z',\n",
       " 'is_locked': False,\n",
       " 'is_pro': True,\n",
       " 'last_login': None,\n",
       " 'last_match_time': '2017-07-13T19:50:56.000Z',\n",
       " 'loccountrycode': 'SE',\n",
       " 'locked_until': 0,\n",
       " 'name': 'GIFTIG!',\n",
       " 'personaname': 'zAHARASAURUS',\n",
       " 'profileurl': 'http://steamcommunity.com/profiles/76561197960353746/',\n",
       " 'steamid': '76561197960353746',\n",
       " 'team_id': 983699,\n",
       " 'team_name': 'Turtlemasters',\n",
       " 'team_tag': 'turtle'}"
      ]
     },
     "execution_count": 50,
     "metadata": {},
     "output_type": "execute_result"
    }
   ],
   "source": [
    "proPlayers[1]"
   ]
  },
  {
   "cell_type": "code",
   "execution_count": 54,
   "metadata": {
    "collapsed": true
   },
   "outputs": [],
   "source": [
    "def get_player_statistics(account_id):\n",
    "    totals = call_opendata(\"/players/\" + account_id + \"/totals\")\n",
    "    statistics = {}\n",
    "    for item in totals[:8]:\n",
    "        statistics[item['field']] = round(item['sum'] / item['n'])\n",
    "\n",
    "    return statistics"
   ]
  },
  {
   "cell_type": "code",
   "execution_count": 59,
   "metadata": {
    "collapsed": false
   },
   "outputs": [],
   "source": [
    "for player in proPlayers[1:5]:\n",
    "        player_stats = get_player_statistics(str(player['account_id']))\n",
    "        for index, value in player_stats.items():\n",
    "            player[index] = value"
   ]
  },
  {
   "cell_type": "code",
   "execution_count": 60,
   "metadata": {
    "collapsed": false
   },
   "outputs": [
    {
     "data": {
      "text/plain": [
       "[{'account_id': 88018,\n",
       "  'assists': 12,\n",
       "  'avatar': 'https://steamcdn-a.akamaihd.net/steamcommunity/public/images/avatars/4e/4e93fd4af7e0261db108e0f7e37593ae2eee0128.jpg',\n",
       "  'avatarfull': 'https://steamcdn-a.akamaihd.net/steamcommunity/public/images/avatars/4e/4e93fd4af7e0261db108e0f7e37593ae2eee0128_full.jpg',\n",
       "  'avatarmedium': 'https://steamcdn-a.akamaihd.net/steamcommunity/public/images/avatars/4e/4e93fd4af7e0261db108e0f7e37593ae2eee0128_medium.jpg',\n",
       "  'cheese': 0,\n",
       "  'country_code': '',\n",
       "  'deaths': 6,\n",
       "  'denies': 9,\n",
       "  'fantasy_role': 1,\n",
       "  'fh_unavailable': False,\n",
       "  'full_history_time': '2017-06-03T04:59:21.898Z',\n",
       "  'gold_per_min': 468,\n",
       "  'i': 'None',\n",
       "  'is_locked': False,\n",
       "  'is_pro': True,\n",
       "  'kda': 4,\n",
       "  'kills': 8,\n",
       "  'last_hits': 158,\n",
       "  'last_login': None,\n",
       "  'last_match_time': '2017-07-13T19:50:56.000Z',\n",
       "  'loccountrycode': 'SE',\n",
       "  'locked_until': 0,\n",
       "  'name': 'GIFTIG!',\n",
       "  'personaname': 'zAHARASAURUS',\n",
       "  'profileurl': 'http://steamcommunity.com/profiles/76561197960353746/',\n",
       "  'steamid': '76561197960353746',\n",
       "  'team_id': 983699,\n",
       "  'team_name': 'Turtlemasters',\n",
       "  'team_tag': 'turtle',\n",
       "  'xp_per_min': 529},\n",
       " {'account_id': 88470,\n",
       "  'assists': 12,\n",
       "  'avatar': 'https://steamcdn-a.akamaihd.net/steamcommunity/public/images/avatars/0c/0c05cd9fde20e5d9fd723ec3be154e3aee33948a.jpg',\n",
       "  'avatarfull': 'https://steamcdn-a.akamaihd.net/steamcommunity/public/images/avatars/0c/0c05cd9fde20e5d9fd723ec3be154e3aee33948a_full.jpg',\n",
       "  'avatarmedium': 'https://steamcdn-a.akamaihd.net/steamcommunity/public/images/avatars/0c/0c05cd9fde20e5d9fd723ec3be154e3aee33948a_medium.jpg',\n",
       "  'cheese': 0,\n",
       "  'country_code': 'cn',\n",
       "  'deaths': 6,\n",
       "  'denies': 6,\n",
       "  'fantasy_role': 1,\n",
       "  'fh_unavailable': False,\n",
       "  'full_history_time': '2017-03-29T12:29:31.688Z',\n",
       "  'gold_per_min': 515,\n",
       "  'i': 'None',\n",
       "  'is_locked': True,\n",
       "  'is_pro': True,\n",
       "  'kda': 4,\n",
       "  'kills': 9,\n",
       "  'last_hits': 176,\n",
       "  'last_login': None,\n",
       "  'last_match_time': '2017-07-28T09:09:46.000Z',\n",
       "  'loccountrycode': 'CN',\n",
       "  'locked_until': 1502694000,\n",
       "  'name': 'TZY',\n",
       "  'personaname': 'Tzy丶',\n",
       "  'profileurl': 'http://steamcommunity.com/id/misterdurst69/',\n",
       "  'steamid': '76561197960354198',\n",
       "  'team_id': 3258149,\n",
       "  'team_name': 'CAVALRY',\n",
       "  'team_tag': 'CG',\n",
       "  'xp_per_min': 521},\n",
       " {'account_id': 145875,\n",
       "  'assists': 0,\n",
       "  'avatar': 'https://steamcdn-a.akamaihd.net/steamcommunity/public/images/avatars/c8/c821855eeb3f02078b75108dc448ecf940657a0c.jpg',\n",
       "  'avatarfull': 'https://steamcdn-a.akamaihd.net/steamcommunity/public/images/avatars/c8/c821855eeb3f02078b75108dc448ecf940657a0c_full.jpg',\n",
       "  'avatarmedium': 'https://steamcdn-a.akamaihd.net/steamcommunity/public/images/avatars/c8/c821855eeb3f02078b75108dc448ecf940657a0c_medium.jpg',\n",
       "  'cheese': 0,\n",
       "  'country_code': '',\n",
       "  'deaths': 0,\n",
       "  'denies': 0,\n",
       "  'fantasy_role': 0,\n",
       "  'fh_unavailable': None,\n",
       "  'full_history_time': None,\n",
       "  'gold_per_min': 136,\n",
       "  'i': 'None',\n",
       "  'is_locked': False,\n",
       "  'is_pro': True,\n",
       "  'kda': 0,\n",
       "  'kills': 0,\n",
       "  'last_hits': 0,\n",
       "  'last_login': None,\n",
       "  'last_match_time': None,\n",
       "  'loccountrycode': None,\n",
       "  'locked_until': 0,\n",
       "  'name': 'LD',\n",
       "  'personaname': 'LD',\n",
       "  'profileurl': 'http://steamcommunity.com/id/lddota/',\n",
       "  'steamid': '76561197960411603',\n",
       "  'team_id': 0,\n",
       "  'team_name': None,\n",
       "  'team_tag': None,\n",
       "  'xp_per_min': 0},\n",
       " {'account_id': 514364,\n",
       "  'assists': 11,\n",
       "  'avatar': 'https://steamcdn-a.akamaihd.net/steamcommunity/public/images/avatars/38/38320bc2df0a5385f0e41a92cb8789839b42a67f.jpg',\n",
       "  'avatarfull': 'https://steamcdn-a.akamaihd.net/steamcommunity/public/images/avatars/38/38320bc2df0a5385f0e41a92cb8789839b42a67f_full.jpg',\n",
       "  'avatarmedium': 'https://steamcdn-a.akamaihd.net/steamcommunity/public/images/avatars/38/38320bc2df0a5385f0e41a92cb8789839b42a67f_medium.jpg',\n",
       "  'cheese': 0,\n",
       "  'country_code': 'us',\n",
       "  'deaths': 6,\n",
       "  'denies': 4,\n",
       "  'fantasy_role': 0,\n",
       "  'fh_unavailable': None,\n",
       "  'full_history_time': None,\n",
       "  'gold_per_min': 380,\n",
       "  'i': 'None',\n",
       "  'is_locked': False,\n",
       "  'is_pro': True,\n",
       "  'kda': 3,\n",
       "  'kills': 6,\n",
       "  'last_hits': 106,\n",
       "  'last_login': None,\n",
       "  'last_match_time': '2017-06-13T13:32:10.000Z',\n",
       "  'loccountrycode': 'US',\n",
       "  'locked_until': 0,\n",
       "  'name': 'Roy',\n",
       "  'personaname': 'Roy',\n",
       "  'profileurl': 'http://steamcommunity.com/id/dbr386/',\n",
       "  'steamid': '76561197960780092',\n",
       "  'team_id': 4645595,\n",
       "  'team_name': 'Hakuna Matata',\n",
       "  'team_tag': 'HM',\n",
       "  'xp_per_min': 430}]"
      ]
     },
     "execution_count": 60,
     "metadata": {},
     "output_type": "execute_result"
    }
   ],
   "source": [
    "proPlayers[1:5]"
   ]
  },
  {
   "cell_type": "code",
   "execution_count": 62,
   "metadata": {
    "collapsed": true
   },
   "outputs": [],
   "source": [
    "def get_player_heroes(account_id):\n",
    "    return [h for h in call_opendata(\"/players/%s/heroes\" % account_id) if h.get(\"games\") > 0]"
   ]
  },
  {
   "cell_type": "code",
   "execution_count": 71,
   "metadata": {
    "collapsed": false
   },
   "outputs": [],
   "source": [
    "player_heroes = get_player_heroes(88018)"
   ]
  },
  {
   "cell_type": "code",
   "execution_count": 72,
   "metadata": {
    "collapsed": false
   },
   "outputs": [
    {
     "data": {
      "text/plain": [
       "{'against_games': 322,\n",
       " 'against_win': 187,\n",
       " 'games': 217,\n",
       " 'hero_id': '9',\n",
       " 'last_played': 1499625905,\n",
       " 'win': 140,\n",
       " 'with_games': 213,\n",
       " 'with_win': 122}"
      ]
     },
     "execution_count": 72,
     "metadata": {},
     "output_type": "execute_result"
    }
   ],
   "source": [
    "player_heroes[0]"
   ]
  },
  {
   "cell_type": "code",
   "execution_count": 73,
   "metadata": {
    "collapsed": false
   },
   "outputs": [
    {
     "data": {
      "text/plain": [
       "'mid'"
      ]
     },
     "execution_count": 73,
     "metadata": {},
     "output_type": "execute_result"
    }
   ],
   "source": [
    "heroes_hash[int(player_heroes[0]['hero_id'])].get(\"main_role\")"
   ]
  },
  {
   "cell_type": "code",
   "execution_count": 74,
   "metadata": {
    "collapsed": false
   },
   "outputs": [
    {
     "data": {
      "text/plain": [
       "'Mirana'"
      ]
     },
     "execution_count": 74,
     "metadata": {},
     "output_type": "execute_result"
    }
   ],
   "source": [
    "heroes_hash[int(player_heroes[0]['hero_id'])].get(\"localized_name\")"
   ]
  },
  {
   "cell_type": "code",
   "execution_count": 75,
   "metadata": {
    "collapsed": false
   },
   "outputs": [
    {
     "data": {
      "text/plain": [
       "[]"
      ]
     },
     "execution_count": 75,
     "metadata": {},
     "output_type": "execute_result"
    }
   ],
   "source": [
    "get_player_heroes(104295506)"
   ]
  },
  {
   "cell_type": "code",
   "execution_count": 79,
   "metadata": {
    "collapsed": false
   },
   "outputs": [
    {
     "data": {
      "text/plain": [
       "{'assists': 11,\n",
       " 'deaths': 6,\n",
       " 'denies': 13,\n",
       " 'gold_per_min': 496,\n",
       " 'kda': 4,\n",
       " 'kills': 9,\n",
       " 'last_hits': 181,\n",
       " 'xp_per_min': 555}"
      ]
     },
     "execution_count": 79,
     "metadata": {},
     "output_type": "execute_result"
    }
   ],
   "source": [
    "get_player_statistics(str(74040691))"
   ]
  },
  {
   "cell_type": "code",
   "execution_count": 1,
   "metadata": {
    "collapsed": true
   },
   "outputs": [],
   "source": [
    "all_roles = {0: 'carry', 1: 'mid', 2: 'offlane', 3: 'support'}"
   ]
  },
  {
   "cell_type": "code",
   "execution_count": 2,
   "metadata": {
    "collapsed": false
   },
   "outputs": [
    {
     "data": {
      "text/plain": [
       "'mid'"
      ]
     },
     "execution_count": 2,
     "metadata": {},
     "output_type": "execute_result"
    }
   ],
   "source": [
    "role[1]"
   ]
  },
  {
   "cell_type": "code",
   "execution_count": null,
   "metadata": {
    "collapsed": true
   },
   "outputs": [],
   "source": []
  }
 ],
 "metadata": {
  "anaconda-cloud": {},
  "kernelspec": {
   "display_name": "Python 3",
   "language": "python",
   "name": "python3"
  },
  "language_info": {
   "codemirror_mode": {
    "name": "ipython",
    "version": 3
   },
   "file_extension": ".py",
   "mimetype": "text/x-python",
   "name": "python",
   "nbconvert_exporter": "python",
   "pygments_lexer": "ipython3",
   "version": "3.6.0"
  }
 },
 "nbformat": 4,
 "nbformat_minor": 1
}
