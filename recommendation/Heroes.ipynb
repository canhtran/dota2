{
 "cells": [
  {
   "cell_type": "code",
   "execution_count": 3,
   "metadata": {
    "collapsed": true
   },
   "outputs": [],
   "source": [
    "import requests\n",
    "import pandas as pd\n",
    "\n",
    "OPENDOTA_ENDPOINT = 'https://api.opendota.com/api/'\n",
    "\n",
    "def call_opendata(path, params=None):\n",
    "    return requests.get(OPENDOTA_ENDPOINT + path, params=params).json()"
   ]
  },
  {
   "cell_type": "code",
   "execution_count": 11,
   "metadata": {
    "collapsed": true
   },
   "outputs": [],
   "source": [
    "def get_player_heroes(account_id):\n",
    "    return [h for h in call_opendata(\"/players/%s/heroes\" % account_id) if h.get(\"games\") > 0]"
   ]
  },
  {
   "cell_type": "code",
   "execution_count": 9,
   "metadata": {
    "collapsed": false
   },
   "outputs": [],
   "source": [
    "def get_heroes():\n",
    "    return call_opendata(\"/heroes\")\n",
    "\n",
    "def get_heroes_hash():\n",
    "    h = {}\n",
    "    heroes = get_heroes()\n",
    "    for hero in heroes:\n",
    "        h[hero.get(\"id\")] = hero\n",
    "    return h"
   ]
  },
  {
   "cell_type": "code",
   "execution_count": 19,
   "metadata": {
    "collapsed": true
   },
   "outputs": [],
   "source": [
    "ProPlayer = call_opendata(\"/proPlayers\")"
   ]
  },
  {
   "cell_type": "code",
   "execution_count": 5,
   "metadata": {
    "collapsed": false
   },
   "outputs": [],
   "source": [
    "all_heroes = pd.read_csv(\"data/heroes.csv\")"
   ]
  },
  {
   "cell_type": "code",
   "execution_count": 6,
   "metadata": {
    "collapsed": false
   },
   "outputs": [],
   "source": [
    "heroes = []\n",
    "for idex, row in all_heroes.iterrows():\n",
    "    hero = {}\n",
    "    hero[\"id\"] = row[\"id\"]\n",
    "    hero[\"localized_name\"] = row[\"localized_name\"]\n",
    "    hero[\"main_role\"] = row[\"main_role\"]\n",
    "    heroes.append(hero)"
   ]
  },
  {
   "cell_type": "code",
   "execution_count": 7,
   "metadata": {
    "collapsed": false
   },
   "outputs": [],
   "source": [
    "def get_heroes_hash():\n",
    "    h = {}\n",
    "    for hero in heroes:\n",
    "        h[hero.get(\"id\")] = hero\n",
    "    return h"
   ]
  },
  {
   "cell_type": "code",
   "execution_count": 46,
   "metadata": {
    "collapsed": true
   },
   "outputs": [],
   "source": [
    "heroes_hash = get_heroes_hash()"
   ]
  },
  {
   "cell_type": "code",
   "execution_count": 47,
   "metadata": {
    "collapsed": false
   },
   "outputs": [
    {
     "data": {
      "text/plain": [
       "{'id': 2, 'localized_name': 'Axe', 'main_role': 'offlane'}"
      ]
     },
     "execution_count": 47,
     "metadata": {},
     "output_type": "execute_result"
    }
   ],
   "source": [
    "heroes[1]"
   ]
  },
  {
   "cell_type": "code",
   "execution_count": 48,
   "metadata": {
    "collapsed": true
   },
   "outputs": [],
   "source": [
    "proPlayers = call_opendata(\"proPlayers\")"
   ]
  },
  {
   "cell_type": "code",
   "execution_count": 50,
   "metadata": {
    "collapsed": false
   },
   "outputs": [
    {
     "data": {
      "text/plain": [
       "{'account_id': 88018,\n",
       " 'avatar': 'https://steamcdn-a.akamaihd.net/steamcommunity/public/images/avatars/4e/4e93fd4af7e0261db108e0f7e37593ae2eee0128.jpg',\n",
       " 'avatarfull': 'https://steamcdn-a.akamaihd.net/steamcommunity/public/images/avatars/4e/4e93fd4af7e0261db108e0f7e37593ae2eee0128_full.jpg',\n",
       " 'avatarmedium': 'https://steamcdn-a.akamaihd.net/steamcommunity/public/images/avatars/4e/4e93fd4af7e0261db108e0f7e37593ae2eee0128_medium.jpg',\n",
       " 'cheese': 0,\n",
       " 'country_code': '',\n",
       " 'fantasy_role': 1,\n",
       " 'fh_unavailable': False,\n",
       " 'full_history_time': '2017-06-03T04:59:21.898Z',\n",
       " 'is_locked': False,\n",
       " 'is_pro': True,\n",
       " 'last_login': None,\n",
       " 'last_match_time': '2017-07-13T19:50:56.000Z',\n",
       " 'loccountrycode': 'SE',\n",
       " 'locked_until': 0,\n",
       " 'name': 'GIFTIG!',\n",
       " 'personaname': 'zAHARASAURUS',\n",
       " 'profileurl': 'http://steamcommunity.com/profiles/76561197960353746/',\n",
       " 'steamid': '76561197960353746',\n",
       " 'team_id': 983699,\n",
       " 'team_name': 'Turtlemasters',\n",
       " 'team_tag': 'turtle'}"
      ]
     },
     "execution_count": 50,
     "metadata": {},
     "output_type": "execute_result"
    }
   ],
   "source": [
    "proPlayers[1]"
   ]
  },
  {
   "cell_type": "code",
   "execution_count": 54,
   "metadata": {
    "collapsed": true
   },
   "outputs": [],
   "source": [
    "def get_player_statistics(account_id):\n",
    "    totals = call_opendata(\"/players/\" + account_id + \"/totals\")\n",
    "    statistics = {}\n",
    "    for item in totals[:8]:\n",
    "        statistics[item['field']] = round(item['sum'] / item['n'])\n",
    "\n",
    "    return statistics"
   ]
  },
  {
   "cell_type": "code",
   "execution_count": 59,
   "metadata": {
    "collapsed": false
   },
   "outputs": [],
   "source": [
    "for player in proPlayers[1:5]:\n",
    "        player_stats = get_player_statistics(str(player['account_id']))\n",
    "        for index, value in player_stats.items():\n",
    "            player[index] = value"
   ]
  },
  {
   "cell_type": "code",
   "execution_count": 60,
   "metadata": {
    "collapsed": false
   },
   "outputs": [
    {
     "data": {
      "text/plain": [
       "[{'account_id': 88018,\n",
       "  'assists': 12,\n",
       "  'avatar': 'https://steamcdn-a.akamaihd.net/steamcommunity/public/images/avatars/4e/4e93fd4af7e0261db108e0f7e37593ae2eee0128.jpg',\n",
       "  'avatarfull': 'https://steamcdn-a.akamaihd.net/steamcommunity/public/images/avatars/4e/4e93fd4af7e0261db108e0f7e37593ae2eee0128_full.jpg',\n",
       "  'avatarmedium': 'https://steamcdn-a.akamaihd.net/steamcommunity/public/images/avatars/4e/4e93fd4af7e0261db108e0f7e37593ae2eee0128_medium.jpg',\n",
       "  'cheese': 0,\n",
       "  'country_code': '',\n",
       "  'deaths': 6,\n",
       "  'denies': 9,\n",
       "  'fantasy_role': 1,\n",
       "  'fh_unavailable': False,\n",
       "  'full_history_time': '2017-06-03T04:59:21.898Z',\n",
       "  'gold_per_min': 468,\n",
       "  'i': 'None',\n",
       "  'is_locked': False,\n",
       "  'is_pro': True,\n",
       "  'kda': 4,\n",
       "  'kills': 8,\n",
       "  'last_hits': 158,\n",
       "  'last_login': None,\n",
       "  'last_match_time': '2017-07-13T19:50:56.000Z',\n",
       "  'loccountrycode': 'SE',\n",
       "  'locked_until': 0,\n",
       "  'name': 'GIFTIG!',\n",
       "  'personaname': 'zAHARASAURUS',\n",
       "  'profileurl': 'http://steamcommunity.com/profiles/76561197960353746/',\n",
       "  'steamid': '76561197960353746',\n",
       "  'team_id': 983699,\n",
       "  'team_name': 'Turtlemasters',\n",
       "  'team_tag': 'turtle',\n",
       "  'xp_per_min': 529},\n",
       " {'account_id': 88470,\n",
       "  'assists': 12,\n",
       "  'avatar': 'https://steamcdn-a.akamaihd.net/steamcommunity/public/images/avatars/0c/0c05cd9fde20e5d9fd723ec3be154e3aee33948a.jpg',\n",
       "  'avatarfull': 'https://steamcdn-a.akamaihd.net/steamcommunity/public/images/avatars/0c/0c05cd9fde20e5d9fd723ec3be154e3aee33948a_full.jpg',\n",
       "  'avatarmedium': 'https://steamcdn-a.akamaihd.net/steamcommunity/public/images/avatars/0c/0c05cd9fde20e5d9fd723ec3be154e3aee33948a_medium.jpg',\n",
       "  'cheese': 0,\n",
       "  'country_code': 'cn',\n",
       "  'deaths': 6,\n",
       "  'denies': 6,\n",
       "  'fantasy_role': 1,\n",
       "  'fh_unavailable': False,\n",
       "  'full_history_time': '2017-03-29T12:29:31.688Z',\n",
       "  'gold_per_min': 515,\n",
       "  'i': 'None',\n",
       "  'is_locked': True,\n",
       "  'is_pro': True,\n",
       "  'kda': 4,\n",
       "  'kills': 9,\n",
       "  'last_hits': 176,\n",
       "  'last_login': None,\n",
       "  'last_match_time': '2017-07-28T09:09:46.000Z',\n",
       "  'loccountrycode': 'CN',\n",
       "  'locked_until': 1502694000,\n",
       "  'name': 'TZY',\n",
       "  'personaname': 'Tzy丶',\n",
       "  'profileurl': 'http://steamcommunity.com/id/misterdurst69/',\n",
       "  'steamid': '76561197960354198',\n",
       "  'team_id': 3258149,\n",
       "  'team_name': 'CAVALRY',\n",
       "  'team_tag': 'CG',\n",
       "  'xp_per_min': 521},\n",
       " {'account_id': 145875,\n",
       "  'assists': 0,\n",
       "  'avatar': 'https://steamcdn-a.akamaihd.net/steamcommunity/public/images/avatars/c8/c821855eeb3f02078b75108dc448ecf940657a0c.jpg',\n",
       "  'avatarfull': 'https://steamcdn-a.akamaihd.net/steamcommunity/public/images/avatars/c8/c821855eeb3f02078b75108dc448ecf940657a0c_full.jpg',\n",
       "  'avatarmedium': 'https://steamcdn-a.akamaihd.net/steamcommunity/public/images/avatars/c8/c821855eeb3f02078b75108dc448ecf940657a0c_medium.jpg',\n",
       "  'cheese': 0,\n",
       "  'country_code': '',\n",
       "  'deaths': 0,\n",
       "  'denies': 0,\n",
       "  'fantasy_role': 0,\n",
       "  'fh_unavailable': None,\n",
       "  'full_history_time': None,\n",
       "  'gold_per_min': 136,\n",
       "  'i': 'None',\n",
       "  'is_locked': False,\n",
       "  'is_pro': True,\n",
       "  'kda': 0,\n",
       "  'kills': 0,\n",
       "  'last_hits': 0,\n",
       "  'last_login': None,\n",
       "  'last_match_time': None,\n",
       "  'loccountrycode': None,\n",
       "  'locked_until': 0,\n",
       "  'name': 'LD',\n",
       "  'personaname': 'LD',\n",
       "  'profileurl': 'http://steamcommunity.com/id/lddota/',\n",
       "  'steamid': '76561197960411603',\n",
       "  'team_id': 0,\n",
       "  'team_name': None,\n",
       "  'team_tag': None,\n",
       "  'xp_per_min': 0},\n",
       " {'account_id': 514364,\n",
       "  'assists': 11,\n",
       "  'avatar': 'https://steamcdn-a.akamaihd.net/steamcommunity/public/images/avatars/38/38320bc2df0a5385f0e41a92cb8789839b42a67f.jpg',\n",
       "  'avatarfull': 'https://steamcdn-a.akamaihd.net/steamcommunity/public/images/avatars/38/38320bc2df0a5385f0e41a92cb8789839b42a67f_full.jpg',\n",
       "  'avatarmedium': 'https://steamcdn-a.akamaihd.net/steamcommunity/public/images/avatars/38/38320bc2df0a5385f0e41a92cb8789839b42a67f_medium.jpg',\n",
       "  'cheese': 0,\n",
       "  'country_code': 'us',\n",
       "  'deaths': 6,\n",
       "  'denies': 4,\n",
       "  'fantasy_role': 0,\n",
       "  'fh_unavailable': None,\n",
       "  'full_history_time': None,\n",
       "  'gold_per_min': 380,\n",
       "  'i': 'None',\n",
       "  'is_locked': False,\n",
       "  'is_pro': True,\n",
       "  'kda': 3,\n",
       "  'kills': 6,\n",
       "  'last_hits': 106,\n",
       "  'last_login': None,\n",
       "  'last_match_time': '2017-06-13T13:32:10.000Z',\n",
       "  'loccountrycode': 'US',\n",
       "  'locked_until': 0,\n",
       "  'name': 'Roy',\n",
       "  'personaname': 'Roy',\n",
       "  'profileurl': 'http://steamcommunity.com/id/dbr386/',\n",
       "  'steamid': '76561197960780092',\n",
       "  'team_id': 4645595,\n",
       "  'team_name': 'Hakuna Matata',\n",
       "  'team_tag': 'HM',\n",
       "  'xp_per_min': 430}]"
      ]
     },
     "execution_count": 60,
     "metadata": {},
     "output_type": "execute_result"
    }
   ],
   "source": [
    "proPlayers[1:5]"
   ]
  },
  {
   "cell_type": "code",
   "execution_count": 62,
   "metadata": {
    "collapsed": true
   },
   "outputs": [],
   "source": [
    "def get_player_heroes(account_id):\n",
    "    return [h for h in call_opendata(\"/players/%s/heroes\" % account_id) if h.get(\"games\") > 0]"
   ]
  },
  {
   "cell_type": "code",
   "execution_count": 71,
   "metadata": {
    "collapsed": false
   },
   "outputs": [],
   "source": [
    "player_heroes = get_player_heroes(88018)"
   ]
  },
  {
   "cell_type": "code",
   "execution_count": 72,
   "metadata": {
    "collapsed": false
   },
   "outputs": [
    {
     "data": {
      "text/plain": [
       "{'against_games': 322,\n",
       " 'against_win': 187,\n",
       " 'games': 217,\n",
       " 'hero_id': '9',\n",
       " 'last_played': 1499625905,\n",
       " 'win': 140,\n",
       " 'with_games': 213,\n",
       " 'with_win': 122}"
      ]
     },
     "execution_count": 72,
     "metadata": {},
     "output_type": "execute_result"
    }
   ],
   "source": [
    "player_heroes[0]"
   ]
  },
  {
   "cell_type": "code",
   "execution_count": 73,
   "metadata": {
    "collapsed": false
   },
   "outputs": [
    {
     "data": {
      "text/plain": [
       "'mid'"
      ]
     },
     "execution_count": 73,
     "metadata": {},
     "output_type": "execute_result"
    }
   ],
   "source": [
    "heroes_hash[int(player_heroes[0]['hero_id'])].get(\"main_role\")"
   ]
  },
  {
   "cell_type": "code",
   "execution_count": 74,
   "metadata": {
    "collapsed": false
   },
   "outputs": [
    {
     "data": {
      "text/plain": [
       "'Mirana'"
      ]
     },
     "execution_count": 74,
     "metadata": {},
     "output_type": "execute_result"
    }
   ],
   "source": [
    "heroes_hash[int(player_heroes[0]['hero_id'])].get(\"localized_name\")"
   ]
  },
  {
   "cell_type": "code",
   "execution_count": 75,
   "metadata": {
    "collapsed": false
   },
   "outputs": [
    {
     "data": {
      "text/plain": [
       "[]"
      ]
     },
     "execution_count": 75,
     "metadata": {},
     "output_type": "execute_result"
    }
   ],
   "source": [
    "get_player_heroes(104295506)"
   ]
  },
  {
   "cell_type": "code",
   "execution_count": 79,
   "metadata": {
    "collapsed": false
   },
   "outputs": [
    {
     "data": {
      "text/plain": [
       "{'assists': 11,\n",
       " 'deaths': 6,\n",
       " 'denies': 13,\n",
       " 'gold_per_min': 496,\n",
       " 'kda': 4,\n",
       " 'kills': 9,\n",
       " 'last_hits': 181,\n",
       " 'xp_per_min': 555}"
      ]
     },
     "execution_count": 79,
     "metadata": {},
     "output_type": "execute_result"
    }
   ],
   "source": [
    "get_player_statistics(str(74040691))"
   ]
  },
  {
   "cell_type": "code",
   "execution_count": 1,
   "metadata": {
    "collapsed": true
   },
   "outputs": [],
   "source": [
    "all_roles = {0: 'carry', 1: 'mid', 2: 'offlane', 3: 'support'}"
   ]
  },
  {
   "cell_type": "code",
   "execution_count": 2,
   "metadata": {
    "collapsed": false
   },
   "outputs": [
    {
     "data": {
      "text/plain": [
       "'mid'"
      ]
     },
     "execution_count": 2,
     "metadata": {},
     "output_type": "execute_result"
    }
   ],
   "source": [
    "role[1]"
   ]
  },
  {
   "cell_type": "code",
   "execution_count": 20,
   "metadata": {
    "collapsed": false
   },
   "outputs": [
    {
     "data": {
      "text/html": [
       "<div>\n",
       "<table border=\"1\" class=\"dataframe\">\n",
       "  <thead>\n",
       "    <tr style=\"text-align: right;\">\n",
       "      <th></th>\n",
       "      <th>attack_type</th>\n",
       "      <th>id</th>\n",
       "      <th>legs</th>\n",
       "      <th>localized_name</th>\n",
       "      <th>name</th>\n",
       "      <th>primary_attr</th>\n",
       "      <th>roles</th>\n",
       "      <th>main_role</th>\n",
       "      <th>guide</th>\n",
       "    </tr>\n",
       "  </thead>\n",
       "  <tbody>\n",
       "    <tr>\n",
       "      <th>2</th>\n",
       "      <td>Ranged</td>\n",
       "      <td>3</td>\n",
       "      <td>4</td>\n",
       "      <td>Bane</td>\n",
       "      <td>npc_dota_hero_bane</td>\n",
       "      <td>int</td>\n",
       "      <td>[u'Support', u'Disabler', u'Nuker', u'Durable']</td>\n",
       "      <td>support</td>\n",
       "      <td>50</td>\n",
       "    </tr>\n",
       "    <tr>\n",
       "      <th>4</th>\n",
       "      <td>Ranged</td>\n",
       "      <td>5</td>\n",
       "      <td>2</td>\n",
       "      <td>Crystal Maiden</td>\n",
       "      <td>npc_dota_hero_crystal_maiden</td>\n",
       "      <td>int</td>\n",
       "      <td>[u'Support', u'Disabler', u'Nuker', u'Jungler']</td>\n",
       "      <td>support</td>\n",
       "      <td>25</td>\n",
       "    </tr>\n",
       "    <tr>\n",
       "      <th>19</th>\n",
       "      <td>Ranged</td>\n",
       "      <td>20</td>\n",
       "      <td>2</td>\n",
       "      <td>Vengeful Spirit</td>\n",
       "      <td>npc_dota_hero_vengefulspirit</td>\n",
       "      <td>agi</td>\n",
       "      <td>[u'Support', u'Initiator', u'Disabler', u'Nuke...</td>\n",
       "      <td>support</td>\n",
       "      <td>12</td>\n",
       "    </tr>\n",
       "    <tr>\n",
       "      <th>24</th>\n",
       "      <td>Ranged</td>\n",
       "      <td>26</td>\n",
       "      <td>2</td>\n",
       "      <td>Lion</td>\n",
       "      <td>npc_dota_hero_lion</td>\n",
       "      <td>int</td>\n",
       "      <td>[u'Support', u'Disabler', u'Nuker', u'Initiator']</td>\n",
       "      <td>support</td>\n",
       "      <td>10</td>\n",
       "    </tr>\n",
       "    <tr>\n",
       "      <th>25</th>\n",
       "      <td>Ranged</td>\n",
       "      <td>27</td>\n",
       "      <td>2</td>\n",
       "      <td>Shadow Shaman</td>\n",
       "      <td>npc_dota_hero_shadow_shaman</td>\n",
       "      <td>int</td>\n",
       "      <td>[u'Support', u'Pusher', u'Disabler', u'Nuker',...</td>\n",
       "      <td>support</td>\n",
       "      <td>13</td>\n",
       "    </tr>\n",
       "    <tr>\n",
       "      <th>28</th>\n",
       "      <td>Ranged</td>\n",
       "      <td>30</td>\n",
       "      <td>2</td>\n",
       "      <td>Witch Doctor</td>\n",
       "      <td>npc_dota_hero_witch_doctor</td>\n",
       "      <td>int</td>\n",
       "      <td>[u'Support', u'Nuker', u'Disabler']</td>\n",
       "      <td>support</td>\n",
       "      <td>17</td>\n",
       "    </tr>\n",
       "    <tr>\n",
       "      <th>29</th>\n",
       "      <td>Ranged</td>\n",
       "      <td>31</td>\n",
       "      <td>2</td>\n",
       "      <td>Lich</td>\n",
       "      <td>npc_dota_hero_lich</td>\n",
       "      <td>int</td>\n",
       "      <td>[u'Support', u'Nuker']</td>\n",
       "      <td>support</td>\n",
       "      <td>7</td>\n",
       "    </tr>\n",
       "    <tr>\n",
       "      <th>30</th>\n",
       "      <td>Melee</td>\n",
       "      <td>32</td>\n",
       "      <td>2</td>\n",
       "      <td>Riki</td>\n",
       "      <td>npc_dota_hero_riki</td>\n",
       "      <td>agi</td>\n",
       "      <td>[u'Carry', u'Escape', u'Disabler']</td>\n",
       "      <td>support</td>\n",
       "      <td>62</td>\n",
       "    </tr>\n",
       "    <tr>\n",
       "      <th>35</th>\n",
       "      <td>Ranged</td>\n",
       "      <td>37</td>\n",
       "      <td>2</td>\n",
       "      <td>Warlock</td>\n",
       "      <td>npc_dota_hero_warlock</td>\n",
       "      <td>int</td>\n",
       "      <td>[u'Support', u'Initiator', u'Disabler']</td>\n",
       "      <td>support</td>\n",
       "      <td>53</td>\n",
       "    </tr>\n",
       "    <tr>\n",
       "      <th>43</th>\n",
       "      <td>Ranged</td>\n",
       "      <td>45</td>\n",
       "      <td>2</td>\n",
       "      <td>Pugna</td>\n",
       "      <td>npc_dota_hero_pugna</td>\n",
       "      <td>int</td>\n",
       "      <td>[u'Nuker', u'Pusher']</td>\n",
       "      <td>support</td>\n",
       "      <td>1</td>\n",
       "    </tr>\n",
       "    <tr>\n",
       "      <th>48</th>\n",
       "      <td>Ranged</td>\n",
       "      <td>50</td>\n",
       "      <td>2</td>\n",
       "      <td>Dazzle</td>\n",
       "      <td>npc_dota_hero_dazzle</td>\n",
       "      <td>int</td>\n",
       "      <td>[u'Support', u'Nuker', u'Disabler']</td>\n",
       "      <td>support</td>\n",
       "      <td>30</td>\n",
       "    </tr>\n",
       "    <tr>\n",
       "      <th>55</th>\n",
       "      <td>Melee</td>\n",
       "      <td>57</td>\n",
       "      <td>2</td>\n",
       "      <td>Omniknight</td>\n",
       "      <td>npc_dota_hero_omniknight</td>\n",
       "      <td>str</td>\n",
       "      <td>[u'Support', u'Durable', u'Nuker']</td>\n",
       "      <td>support</td>\n",
       "      <td>61</td>\n",
       "    </tr>\n",
       "    <tr>\n",
       "      <th>56</th>\n",
       "      <td>Ranged</td>\n",
       "      <td>58</td>\n",
       "      <td>4</td>\n",
       "      <td>Enchantress</td>\n",
       "      <td>npc_dota_hero_enchantress</td>\n",
       "      <td>int</td>\n",
       "      <td>[u'Support', u'Jungler', u'Pusher', u'Durable'...</td>\n",
       "      <td>support</td>\n",
       "      <td>29</td>\n",
       "    </tr>\n",
       "    <tr>\n",
       "      <th>60</th>\n",
       "      <td>Melee</td>\n",
       "      <td>62</td>\n",
       "      <td>2</td>\n",
       "      <td>Bounty Hunter</td>\n",
       "      <td>npc_dota_hero_bounty_hunter</td>\n",
       "      <td>agi</td>\n",
       "      <td>[u'Escape', u'Nuker']</td>\n",
       "      <td>support</td>\n",
       "      <td>73</td>\n",
       "    </tr>\n",
       "    <tr>\n",
       "      <th>62</th>\n",
       "      <td>Ranged</td>\n",
       "      <td>64</td>\n",
       "      <td>2</td>\n",
       "      <td>Jakiro</td>\n",
       "      <td>npc_dota_hero_jakiro</td>\n",
       "      <td>int</td>\n",
       "      <td>[u'Support', u'Nuker', u'Pusher', u'Disabler']</td>\n",
       "      <td>support</td>\n",
       "      <td>66</td>\n",
       "    </tr>\n",
       "    <tr>\n",
       "      <th>64</th>\n",
       "      <td>Ranged</td>\n",
       "      <td>66</td>\n",
       "      <td>2</td>\n",
       "      <td>Chen</td>\n",
       "      <td>npc_dota_hero_chen</td>\n",
       "      <td>int</td>\n",
       "      <td>[u'Support', u'Jungler', u'Pusher']</td>\n",
       "      <td>support</td>\n",
       "      <td>11</td>\n",
       "    </tr>\n",
       "    <tr>\n",
       "      <th>66</th>\n",
       "      <td>Ranged</td>\n",
       "      <td>68</td>\n",
       "      <td>2</td>\n",
       "      <td>Ancient Apparition</td>\n",
       "      <td>npc_dota_hero_ancient_apparition</td>\n",
       "      <td>int</td>\n",
       "      <td>[u'Support', u'Disabler', u'Nuker']</td>\n",
       "      <td>support</td>\n",
       "      <td>4</td>\n",
       "    </tr>\n",
       "    <tr>\n",
       "      <th>77</th>\n",
       "      <td>Ranged</td>\n",
       "      <td>79</td>\n",
       "      <td>2</td>\n",
       "      <td>Shadow Demon</td>\n",
       "      <td>npc_dota_hero_shadow_demon</td>\n",
       "      <td>int</td>\n",
       "      <td>[u'Support', u'Disabler', u'Initiator', u'Nuker']</td>\n",
       "      <td>support</td>\n",
       "      <td>104</td>\n",
       "    </tr>\n",
       "    <tr>\n",
       "      <th>81</th>\n",
       "      <td>Melee</td>\n",
       "      <td>83</td>\n",
       "      <td>2</td>\n",
       "      <td>Treant Protector</td>\n",
       "      <td>npc_dota_hero_treant</td>\n",
       "      <td>str</td>\n",
       "      <td>[u'Support', u'Initiator', u'Durable', u'Disab...</td>\n",
       "      <td>support</td>\n",
       "      <td>80</td>\n",
       "    </tr>\n",
       "    <tr>\n",
       "      <th>82</th>\n",
       "      <td>Melee</td>\n",
       "      <td>84</td>\n",
       "      <td>2</td>\n",
       "      <td>Ogre Magi</td>\n",
       "      <td>npc_dota_hero_ogre_magi</td>\n",
       "      <td>int</td>\n",
       "      <td>[u'Support', u'Nuker', u'Disabler', u'Durable'...</td>\n",
       "      <td>support</td>\n",
       "      <td>100</td>\n",
       "    </tr>\n",
       "    <tr>\n",
       "      <th>84</th>\n",
       "      <td>Ranged</td>\n",
       "      <td>86</td>\n",
       "      <td>2</td>\n",
       "      <td>Rubick</td>\n",
       "      <td>npc_dota_hero_rubick</td>\n",
       "      <td>int</td>\n",
       "      <td>[u'Support', u'Disabler', u'Nuker']</td>\n",
       "      <td>support</td>\n",
       "      <td>102</td>\n",
       "    </tr>\n",
       "    <tr>\n",
       "      <th>85</th>\n",
       "      <td>Ranged</td>\n",
       "      <td>87</td>\n",
       "      <td>2</td>\n",
       "      <td>Disruptor</td>\n",
       "      <td>npc_dota_hero_disruptor</td>\n",
       "      <td>int</td>\n",
       "      <td>[u'Support', u'Disabler', u'Nuker', u'Initiator']</td>\n",
       "      <td>support</td>\n",
       "      <td>99</td>\n",
       "    </tr>\n",
       "    <tr>\n",
       "      <th>88</th>\n",
       "      <td>Ranged</td>\n",
       "      <td>90</td>\n",
       "      <td>2</td>\n",
       "      <td>Keeper of the Light</td>\n",
       "      <td>npc_dota_hero_keeper_of_the_light</td>\n",
       "      <td>int</td>\n",
       "      <td>[u'Support', u'Nuker', u'Disabler', u'Jungler']</td>\n",
       "      <td>support</td>\n",
       "      <td>98</td>\n",
       "    </tr>\n",
       "    <tr>\n",
       "      <th>89</th>\n",
       "      <td>Ranged</td>\n",
       "      <td>91</td>\n",
       "      <td>0</td>\n",
       "      <td>Io</td>\n",
       "      <td>npc_dota_hero_wisp</td>\n",
       "      <td>str</td>\n",
       "      <td>[u'Support', u'Escape', u'Nuker']</td>\n",
       "      <td>support</td>\n",
       "      <td>81</td>\n",
       "    </tr>\n",
       "    <tr>\n",
       "      <th>90</th>\n",
       "      <td>Ranged</td>\n",
       "      <td>92</td>\n",
       "      <td>2</td>\n",
       "      <td>Visage</td>\n",
       "      <td>npc_dota_hero_visage</td>\n",
       "      <td>int</td>\n",
       "      <td>[u'Support', u'Nuker', u'Durable', u'Disabler'...</td>\n",
       "      <td>support</td>\n",
       "      <td>105</td>\n",
       "    </tr>\n",
       "    <tr>\n",
       "      <th>99</th>\n",
       "      <td>Ranged</td>\n",
       "      <td>101</td>\n",
       "      <td>2</td>\n",
       "      <td>Skywrath Mage</td>\n",
       "      <td>npc_dota_hero_skywrath_mage</td>\n",
       "      <td>int</td>\n",
       "      <td>[u'Support', u'Nuker', u'Disabler']</td>\n",
       "      <td>support</td>\n",
       "      <td>109</td>\n",
       "    </tr>\n",
       "    <tr>\n",
       "      <th>100</th>\n",
       "      <td>Melee</td>\n",
       "      <td>102</td>\n",
       "      <td>2</td>\n",
       "      <td>Abaddon</td>\n",
       "      <td>npc_dota_hero_abaddon</td>\n",
       "      <td>str</td>\n",
       "      <td>[u'Support', u'Carry', u'Durable']</td>\n",
       "      <td>support</td>\n",
       "      <td>86</td>\n",
       "    </tr>\n",
       "    <tr>\n",
       "      <th>101</th>\n",
       "      <td>Melee</td>\n",
       "      <td>103</td>\n",
       "      <td>2</td>\n",
       "      <td>Elder Titan</td>\n",
       "      <td>npc_dota_hero_elder_titan</td>\n",
       "      <td>str</td>\n",
       "      <td>[u'Initiator', u'Disabler', u'Nuker', u'Durable']</td>\n",
       "      <td>support</td>\n",
       "      <td>79</td>\n",
       "    </tr>\n",
       "    <tr>\n",
       "      <th>105</th>\n",
       "      <td>Melee</td>\n",
       "      <td>107</td>\n",
       "      <td>2</td>\n",
       "      <td>Earth Spirit</td>\n",
       "      <td>npc_dota_hero_earth_spirit</td>\n",
       "      <td>str</td>\n",
       "      <td>[u'Nuker', u'Escape', u'Disabler', u'Initiator...</td>\n",
       "      <td>support</td>\n",
       "      <td>111</td>\n",
       "    </tr>\n",
       "    <tr>\n",
       "      <th>108</th>\n",
       "      <td>Ranged</td>\n",
       "      <td>110</td>\n",
       "      <td>2</td>\n",
       "      <td>Phoenix</td>\n",
       "      <td>npc_dota_hero_phoenix</td>\n",
       "      <td>str</td>\n",
       "      <td>[u'Support', u'Nuker', u'Initiator', u'Escape'...</td>\n",
       "      <td>support</td>\n",
       "      <td>83</td>\n",
       "    </tr>\n",
       "    <tr>\n",
       "      <th>109</th>\n",
       "      <td>Ranged</td>\n",
       "      <td>111</td>\n",
       "      <td>2</td>\n",
       "      <td>Oracle</td>\n",
       "      <td>npc_dota_hero_oracle</td>\n",
       "      <td>int</td>\n",
       "      <td>[u'Support', u'Nuker', u'Disabler', u'Escape']</td>\n",
       "      <td>support</td>\n",
       "      <td>113</td>\n",
       "    </tr>\n",
       "    <tr>\n",
       "      <th>110</th>\n",
       "      <td>Ranged</td>\n",
       "      <td>112</td>\n",
       "      <td>2</td>\n",
       "      <td>Winter Wyvern</td>\n",
       "      <td>npc_dota_hero_winter_wyvern</td>\n",
       "      <td>int</td>\n",
       "      <td>[u'Support', u'Disabler', u'Nuker']</td>\n",
       "      <td>support</td>\n",
       "      <td>112</td>\n",
       "    </tr>\n",
       "  </tbody>\n",
       "</table>\n",
       "</div>"
      ],
      "text/plain": [
       "    attack_type   id  legs       localized_name  \\\n",
       "2        Ranged    3     4                 Bane   \n",
       "4        Ranged    5     2       Crystal Maiden   \n",
       "19       Ranged   20     2      Vengeful Spirit   \n",
       "24       Ranged   26     2                 Lion   \n",
       "25       Ranged   27     2        Shadow Shaman   \n",
       "28       Ranged   30     2         Witch Doctor   \n",
       "29       Ranged   31     2                 Lich   \n",
       "30        Melee   32     2                 Riki   \n",
       "35       Ranged   37     2              Warlock   \n",
       "43       Ranged   45     2                Pugna   \n",
       "48       Ranged   50     2               Dazzle   \n",
       "55        Melee   57     2           Omniknight   \n",
       "56       Ranged   58     4          Enchantress   \n",
       "60        Melee   62     2        Bounty Hunter   \n",
       "62       Ranged   64     2               Jakiro   \n",
       "64       Ranged   66     2                 Chen   \n",
       "66       Ranged   68     2   Ancient Apparition   \n",
       "77       Ranged   79     2         Shadow Demon   \n",
       "81        Melee   83     2     Treant Protector   \n",
       "82        Melee   84     2            Ogre Magi   \n",
       "84       Ranged   86     2               Rubick   \n",
       "85       Ranged   87     2            Disruptor   \n",
       "88       Ranged   90     2  Keeper of the Light   \n",
       "89       Ranged   91     0                   Io   \n",
       "90       Ranged   92     2               Visage   \n",
       "99       Ranged  101     2        Skywrath Mage   \n",
       "100       Melee  102     2              Abaddon   \n",
       "101       Melee  103     2          Elder Titan   \n",
       "105       Melee  107     2         Earth Spirit   \n",
       "108      Ranged  110     2              Phoenix   \n",
       "109      Ranged  111     2               Oracle   \n",
       "110      Ranged  112     2        Winter Wyvern   \n",
       "\n",
       "                                  name primary_attr  \\\n",
       "2                   npc_dota_hero_bane          int   \n",
       "4         npc_dota_hero_crystal_maiden          int   \n",
       "19        npc_dota_hero_vengefulspirit          agi   \n",
       "24                  npc_dota_hero_lion          int   \n",
       "25         npc_dota_hero_shadow_shaman          int   \n",
       "28          npc_dota_hero_witch_doctor          int   \n",
       "29                  npc_dota_hero_lich          int   \n",
       "30                  npc_dota_hero_riki          agi   \n",
       "35               npc_dota_hero_warlock          int   \n",
       "43                 npc_dota_hero_pugna          int   \n",
       "48                npc_dota_hero_dazzle          int   \n",
       "55            npc_dota_hero_omniknight          str   \n",
       "56           npc_dota_hero_enchantress          int   \n",
       "60         npc_dota_hero_bounty_hunter          agi   \n",
       "62                npc_dota_hero_jakiro          int   \n",
       "64                  npc_dota_hero_chen          int   \n",
       "66    npc_dota_hero_ancient_apparition          int   \n",
       "77          npc_dota_hero_shadow_demon          int   \n",
       "81                npc_dota_hero_treant          str   \n",
       "82             npc_dota_hero_ogre_magi          int   \n",
       "84                npc_dota_hero_rubick          int   \n",
       "85             npc_dota_hero_disruptor          int   \n",
       "88   npc_dota_hero_keeper_of_the_light          int   \n",
       "89                  npc_dota_hero_wisp          str   \n",
       "90                npc_dota_hero_visage          int   \n",
       "99         npc_dota_hero_skywrath_mage          int   \n",
       "100              npc_dota_hero_abaddon          str   \n",
       "101          npc_dota_hero_elder_titan          str   \n",
       "105         npc_dota_hero_earth_spirit          str   \n",
       "108              npc_dota_hero_phoenix          str   \n",
       "109               npc_dota_hero_oracle          int   \n",
       "110        npc_dota_hero_winter_wyvern          int   \n",
       "\n",
       "                                                 roles main_role  guide  \n",
       "2      [u'Support', u'Disabler', u'Nuker', u'Durable']   support     50  \n",
       "4      [u'Support', u'Disabler', u'Nuker', u'Jungler']   support     25  \n",
       "19   [u'Support', u'Initiator', u'Disabler', u'Nuke...   support     12  \n",
       "24   [u'Support', u'Disabler', u'Nuker', u'Initiator']   support     10  \n",
       "25   [u'Support', u'Pusher', u'Disabler', u'Nuker',...   support     13  \n",
       "28                 [u'Support', u'Nuker', u'Disabler']   support     17  \n",
       "29                              [u'Support', u'Nuker']   support      7  \n",
       "30                  [u'Carry', u'Escape', u'Disabler']   support     62  \n",
       "35             [u'Support', u'Initiator', u'Disabler']   support     53  \n",
       "43                               [u'Nuker', u'Pusher']   support      1  \n",
       "48                 [u'Support', u'Nuker', u'Disabler']   support     30  \n",
       "55                  [u'Support', u'Durable', u'Nuker']   support     61  \n",
       "56   [u'Support', u'Jungler', u'Pusher', u'Durable'...   support     29  \n",
       "60                               [u'Escape', u'Nuker']   support     73  \n",
       "62      [u'Support', u'Nuker', u'Pusher', u'Disabler']   support     66  \n",
       "64                 [u'Support', u'Jungler', u'Pusher']   support     11  \n",
       "66                 [u'Support', u'Disabler', u'Nuker']   support      4  \n",
       "77   [u'Support', u'Disabler', u'Initiator', u'Nuker']   support    104  \n",
       "81   [u'Support', u'Initiator', u'Durable', u'Disab...   support     80  \n",
       "82   [u'Support', u'Nuker', u'Disabler', u'Durable'...   support    100  \n",
       "84                 [u'Support', u'Disabler', u'Nuker']   support    102  \n",
       "85   [u'Support', u'Disabler', u'Nuker', u'Initiator']   support     99  \n",
       "88     [u'Support', u'Nuker', u'Disabler', u'Jungler']   support     98  \n",
       "89                   [u'Support', u'Escape', u'Nuker']   support     81  \n",
       "90   [u'Support', u'Nuker', u'Durable', u'Disabler'...   support    105  \n",
       "99                 [u'Support', u'Nuker', u'Disabler']   support    109  \n",
       "100                 [u'Support', u'Carry', u'Durable']   support     86  \n",
       "101  [u'Initiator', u'Disabler', u'Nuker', u'Durable']   support     79  \n",
       "105  [u'Nuker', u'Escape', u'Disabler', u'Initiator...   support    111  \n",
       "108  [u'Support', u'Nuker', u'Initiator', u'Escape'...   support     83  \n",
       "109     [u'Support', u'Nuker', u'Disabler', u'Escape']   support    113  \n",
       "110                [u'Support', u'Disabler', u'Nuker']   support    112  "
      ]
     },
     "execution_count": 20,
     "metadata": {},
     "output_type": "execute_result"
    }
   ],
   "source": [
    "all_heroes[all_heroes['main_role'] == 'support']"
   ]
  },
  {
   "cell_type": "code",
   "execution_count": 18,
   "metadata": {
    "collapsed": false
   },
   "outputs": [
    {
     "data": {
      "text/plain": [
       "list"
      ]
     },
     "execution_count": 18,
     "metadata": {},
     "output_type": "execute_result"
    }
   ],
   "source": [
    "type(heroes)"
   ]
  },
  {
   "cell_type": "code",
   "execution_count": null,
   "metadata": {
    "collapsed": true
   },
   "outputs": [],
   "source": []
  }
 ],
 "metadata": {
  "anaconda-cloud": {},
  "kernelspec": {
   "display_name": "Python 3",
   "language": "python",
   "name": "python3"
  },
  "language_info": {
   "codemirror_mode": {
    "name": "ipython",
    "version": 3
   },
   "file_extension": ".py",
   "mimetype": "text/x-python",
   "name": "python",
   "nbconvert_exporter": "python",
   "pygments_lexer": "ipython3",
   "version": "3.6.0"
  }
 },
 "nbformat": 4,
 "nbformat_minor": 1
}
