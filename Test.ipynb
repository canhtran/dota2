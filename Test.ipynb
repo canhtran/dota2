{
 "cells": [
  {
   "cell_type": "code",
   "execution_count": 2,
   "metadata": {
    "collapsed": false
   },
   "outputs": [],
   "source": [
    "import dota2api\n",
    "dota2api = dota2api.Initialise(\"09057F8250841926FE65274DC792DF27\")"
   ]
  },
  {
   "cell_type": "code",
   "execution_count": 27,
   "metadata": {
    "collapsed": false
   },
   "outputs": [],
   "source": [
    "history = dota2api.get_match_history(76561198067352481)"
   ]
  },
  {
   "cell_type": "code",
   "execution_count": 40,
   "metadata": {
    "collapsed": false
   },
   "outputs": [],
   "source": [
    "a = history['matches'][:20]"
   ]
  },
  {
   "cell_type": "code",
   "execution_count": 45,
   "metadata": {
    "collapsed": false
   },
   "outputs": [
    {
     "name": "stdout",
     "output_type": "stream",
     "text": [
      "2577987209\n",
      "2577871454\n",
      "2577732390\n",
      "2573109429\n",
      "2572978162\n",
      "2567859929\n",
      "2567738479\n",
      "2567451369\n",
      "2566508271\n",
      "2561507850\n",
      "2561427011\n",
      "2561373439\n",
      "2559723544\n",
      "2557227988\n",
      "2557009687\n",
      "2555609166\n",
      "2555367847\n",
      "2555261511\n",
      "2554803109\n",
      "2554754993\n"
     ]
    }
   ],
   "source": [
    "typ"
   ]
  },
  {
   "cell_type": "code",
   "execution_count": 52,
   "metadata": {
    "collapsed": false
   },
   "outputs": [],
   "source": [
    "c = match['players']"
   ]
  },
  {
   "cell_type": "code",
   "execution_count": 73,
   "metadata": {
    "collapsed": false
   },
   "outputs": [],
   "source": [
    "ti = [x for x in c if x['account_id'] == 107086753][0]"
   ]
  },
  {
   "cell_type": "code",
   "execution_count": 75,
   "metadata": {
    "collapsed": false
   },
   "outputs": [],
   "source": [
    "t = {}\n",
    "t['kill'] = ti['kills']"
   ]
  },
  {
   "cell_type": "code",
   "execution_count": 77,
   "metadata": {
    "collapsed": false
   },
   "outputs": [
    {
     "data": {
      "text/plain": [
       "dict"
      ]
     },
     "execution_count": 77,
     "metadata": {},
     "output_type": "execute_result"
    }
   ],
   "source": [
    "del(ti[])"
   ]
  },
  {
   "cell_type": "code",
   "execution_count": 64,
   "metadata": {
    "collapsed": false
   },
   "outputs": [
    {
     "data": {
      "text/plain": [
       "[46, 51, 99, 70]"
      ]
     },
     "execution_count": 64,
     "metadata": {},
     "output_type": "execute_result"
    }
   ],
   "source": [
    "[x+1 for x in l if x >= 45]"
   ]
  },
  {
   "cell_type": "code",
   "execution_count": 13,
   "metadata": {
    "collapsed": false
   },
   "outputs": [],
   "source": [
    "match = dota2api.get_match_details(match_id=2577987209)"
   ]
  },
  {
   "cell_type": "code",
   "execution_count": 48,
   "metadata": {
    "collapsed": false
   },
   "outputs": [
    {
     "ename": "KeyError",
     "evalue": "'player_id'",
     "output_type": "error",
     "traceback": [
      "\u001b[1;31m---------------------------------------------------------------------------\u001b[0m",
      "\u001b[1;31mKeyError\u001b[0m                                  Traceback (most recent call last)",
      "\u001b[1;32m<ipython-input-48-1eb319d9bb65>\u001b[0m in \u001b[0;36m<module>\u001b[1;34m()\u001b[0m\n\u001b[1;32m----> 1\u001b[1;33m \u001b[0ma\u001b[0m \u001b[1;33m=\u001b[0m \u001b[0mmatch\u001b[0m\u001b[1;33m[\u001b[0m\u001b[0mmatch\u001b[0m\u001b[1;33m[\u001b[0m\u001b[1;34m'player_id'\u001b[0m\u001b[1;33m]\u001b[0m \u001b[1;33m==\u001b[0m \u001b[1;36m107086753\u001b[0m\u001b[1;33m]\u001b[0m\u001b[1;33m\u001b[0m\u001b[0m\n\u001b[0m",
      "\u001b[1;31mKeyError\u001b[0m: 'player_id'"
     ]
    }
   ],
   "source": [
    "a = match[match['players']['player_id'] == 107086753]"
   ]
  },
  {
   "cell_type": "code",
   "execution_count": 21,
   "metadata": {
    "collapsed": true
   },
   "outputs": [],
   "source": [
    "def convert(id):\n",
    "    if len(str(id)) == 17:\n",
    "        temp = str(id)\n",
    "        return int(temp[3:]) - 61197960265728\n",
    "    else:\n",
    "        return '765' + str(int(x) + 61197960265728)"
   ]
  },
  {
   "cell_type": "code",
   "execution_count": 22,
   "metadata": {
    "collapsed": false
   },
   "outputs": [
    {
     "data": {
      "text/plain": [
       "107086753"
      ]
     },
     "execution_count": 22,
     "metadata": {},
     "output_type": "execute_result"
    }
   ],
   "source": [
    "convert(76561198067352481)"
   ]
  },
  {
   "cell_type": "code",
   "execution_count": 67,
   "metadata": {
    "collapsed": false
   },
   "outputs": [],
   "source": [
    "player_info = dota2api.get_player_summaries(76561198067352481)"
   ]
  },
  {
   "cell_type": "code",
   "execution_count": 69,
   "metadata": {
    "collapsed": false
   },
   "outputs": [],
   "source": [
    "player_data = {}\n",
    "player_data[str(76561198067352481)] = player_info['players']"
   ]
  },
  {
   "cell_type": "code",
   "execution_count": 70,
   "metadata": {
    "collapsed": false
   },
   "outputs": [
    {
     "data": {
      "text/plain": [
       "{'76561198067352481': [{'avatar': 'https://steamcdn-a.akamaihd.net/steamcommunity/public/images/avatars/9c/9cefd2f5ce0c673f94396edf4496a86af59c313f.jpg',\n",
       "   'avatarfull': 'https://steamcdn-a.akamaihd.net/steamcommunity/public/images/avatars/9c/9cefd2f5ce0c673f94396edf4496a86af59c313f_full.jpg',\n",
       "   'avatarmedium': 'https://steamcdn-a.akamaihd.net/steamcommunity/public/images/avatars/9c/9cefd2f5ce0c673f94396edf4496a86af59c313f_medium.jpg',\n",
       "   'commentpermission': 1,\n",
       "   'communityvisibilitystate': 3,\n",
       "   'lastlogoff': 1471586073,\n",
       "   'personaname': 'Urumi',\n",
       "   'personastate': 0,\n",
       "   'personastateflags': 0,\n",
       "   'primaryclanid': '103582791434394359',\n",
       "   'profilestate': 1,\n",
       "   'profileurl': 'http://steamcommunity.com/id/dukamaster/',\n",
       "   'realname': 'Canh Tran',\n",
       "   'steamid': '76561198067352481',\n",
       "   'timecreated': 1342494433}]}"
      ]
     },
     "execution_count": 70,
     "metadata": {},
     "output_type": "execute_result"
    }
   ],
   "source": [
    "player_data"
   ]
  },
  {
   "cell_type": "code",
   "execution_count": null,
   "metadata": {
    "collapsed": true
   },
   "outputs": [],
   "source": []
  }
 ],
 "metadata": {
  "anaconda-cloud": {},
  "kernelspec": {
   "display_name": "Python [Root]",
   "language": "python",
   "name": "Python [Root]"
  },
  "language_info": {
   "codemirror_mode": {
    "name": "ipython",
    "version": 3
   },
   "file_extension": ".py",
   "mimetype": "text/x-python",
   "name": "python",
   "nbconvert_exporter": "python",
   "pygments_lexer": "ipython3",
   "version": "3.5.2"
  }
 },
 "nbformat": 4,
 "nbformat_minor": 0
}
